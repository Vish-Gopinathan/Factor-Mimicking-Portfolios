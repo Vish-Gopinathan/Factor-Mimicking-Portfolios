{
 "cells": [
  {
   "cell_type": "code",
   "execution_count": 2,
   "metadata": {},
   "outputs": [],
   "source": [
    "import pandas as pd"
   ]
  },
  {
   "cell_type": "code",
   "execution_count": 128,
   "metadata": {},
   "outputs": [
    {
     "name": "stderr",
     "output_type": "stream",
     "text": [
      "100%|██████████| 429/429 [02:40<00:00,  2.68it/s]\n",
      "100%|██████████| 429/429 [02:40<00:00,  2.67it/s]\n"
     ]
    }
   ],
   "source": [
    "from finviz.screener import Screener\n",
    "\n",
    "filters = []  # Shows companies which are in the S&P500\n",
    "stock_list = Screener(filters=filters, table='Valuation', order='pb')  # Get the Valuation table and sort it by price ascending\n",
    "stock_list2 = Screener(filters=filters, table='Performance')  # Get the Valuation table and sort it by price ascending\n",
    "\n",
    "# Export the screener results to .csv\n",
    "stock_list.to_csv(\"stock.csv\")\n",
    "stock_list2.to_csv(\"stock2.csv\")\n"
   ]
  },
  {
   "cell_type": "code",
   "execution_count": 3,
   "metadata": {},
   "outputs": [],
   "source": [
    "data2 = pd.read_csv('stock2.csv')"
   ]
  },
  {
   "cell_type": "code",
   "execution_count": 4,
   "metadata": {},
   "outputs": [],
   "source": [
    "data2 = data2[['Ticker','Perf Year']]"
   ]
  },
  {
   "cell_type": "code",
   "execution_count": 5,
   "metadata": {},
   "outputs": [],
   "source": [
    "data = pd.read_csv('stock.csv')"
   ]
  },
  {
   "cell_type": "code",
   "execution_count": 6,
   "metadata": {},
   "outputs": [],
   "source": [
    "data['Market Cap']= data['Market Cap'].str.replace('B','000')\n",
    "data['Market Cap']= data['Market Cap'].str.replace('M','')\n",
    "data2['Perf Year']= data2['Perf Year'].str.replace('%','')"
   ]
  },
  {
   "cell_type": "code",
   "execution_count": 7,
   "metadata": {},
   "outputs": [],
   "source": [
    "data = data[['Ticker','Market Cap', 'P/B']]"
   ]
  },
  {
   "cell_type": "code",
   "execution_count": 20,
   "metadata": {},
   "outputs": [],
   "source": [
    "final = data.merge(data2).sort_values(by='Ticker')"
   ]
  },
  {
   "cell_type": "code",
   "execution_count": 21,
   "metadata": {},
   "outputs": [],
   "source": [
    "final = final[final['P/B']!='-']\n",
    "final = final[final['Perf Year']!='-']\n",
    "final = final[final['Market Cap']!='-']"
   ]
  },
  {
   "cell_type": "code",
   "execution_count": 22,
   "metadata": {},
   "outputs": [],
   "source": [
    "\n",
    "final['P/B'] = 1/(final['P/B'].astype(float))\n",
    "final['Perf Year'] = (final['Perf Year'].astype(float))/100\n",
    "final['Market Cap'] = final['Market Cap'].astype(float)"
   ]
  },
  {
   "cell_type": "code",
   "execution_count": 23,
   "metadata": {},
   "outputs": [],
   "source": [
    "final.rename(columns={'Market Cap':'Mktcap', 'P/B':'B/P', 'Perf Year': 'Ret'},inplace=True)"
   ]
  },
  {
   "cell_type": "code",
   "execution_count": 24,
   "metadata": {},
   "outputs": [
    {
     "data": {
      "text/html": [
       "<div>\n",
       "<style scoped>\n",
       "    .dataframe tbody tr th:only-of-type {\n",
       "        vertical-align: middle;\n",
       "    }\n",
       "\n",
       "    .dataframe tbody tr th {\n",
       "        vertical-align: top;\n",
       "    }\n",
       "\n",
       "    .dataframe thead th {\n",
       "        text-align: right;\n",
       "    }\n",
       "</style>\n",
       "<table border=\"1\" class=\"dataframe\">\n",
       "  <thead>\n",
       "    <tr style=\"text-align: right;\">\n",
       "      <th></th>\n",
       "      <th>Ticker</th>\n",
       "      <th>Mktcap</th>\n",
       "      <th>B/P</th>\n",
       "      <th>Ret</th>\n",
       "    </tr>\n",
       "  </thead>\n",
       "  <tbody>\n",
       "    <tr>\n",
       "      <th>5238</th>\n",
       "      <td>A</td>\n",
       "      <td>34.68</td>\n",
       "      <td>0.143885</td>\n",
       "      <td>-0.1933</td>\n",
       "    </tr>\n",
       "    <tr>\n",
       "      <th>3288</th>\n",
       "      <td>AA</td>\n",
       "      <td>7.85</td>\n",
       "      <td>0.555556</td>\n",
       "      <td>0.4200</td>\n",
       "    </tr>\n",
       "    <tr>\n",
       "      <th>2386</th>\n",
       "      <td>AAC</td>\n",
       "      <td>1.23</td>\n",
       "      <td>0.769231</td>\n",
       "      <td>0.0072</td>\n",
       "    </tr>\n",
       "    <tr>\n",
       "      <th>3040</th>\n",
       "      <td>AACG</td>\n",
       "      <td>42.63</td>\n",
       "      <td>0.621118</td>\n",
       "      <td>-0.5671</td>\n",
       "    </tr>\n",
       "    <tr>\n",
       "      <th>3678</th>\n",
       "      <td>AADI</td>\n",
       "      <td>267.36</td>\n",
       "      <td>0.462963</td>\n",
       "      <td>-0.5670</td>\n",
       "    </tr>\n",
       "    <tr>\n",
       "      <th>...</th>\n",
       "      <td>...</td>\n",
       "      <td>...</td>\n",
       "      <td>...</td>\n",
       "      <td>...</td>\n",
       "    </tr>\n",
       "    <tr>\n",
       "      <th>5626</th>\n",
       "      <td>ZWS</td>\n",
       "      <td>3.69</td>\n",
       "      <td>0.050505</td>\n",
       "      <td>0.2335</td>\n",
       "    </tr>\n",
       "    <tr>\n",
       "      <th>630</th>\n",
       "      <td>ZY</td>\n",
       "      <td>201.54</td>\n",
       "      <td>1.612903</td>\n",
       "      <td>-0.9463</td>\n",
       "    </tr>\n",
       "    <tr>\n",
       "      <th>2587</th>\n",
       "      <td>ZYME</td>\n",
       "      <td>358.85</td>\n",
       "      <td>0.746269</td>\n",
       "      <td>-0.8290</td>\n",
       "    </tr>\n",
       "    <tr>\n",
       "      <th>827</th>\n",
       "      <td>ZYNE</td>\n",
       "      <td>49.23</td>\n",
       "      <td>1.408451</td>\n",
       "      <td>-0.7489</td>\n",
       "    </tr>\n",
       "    <tr>\n",
       "      <th>4701</th>\n",
       "      <td>ZYXI</td>\n",
       "      <td>283.02</td>\n",
       "      <td>0.251256</td>\n",
       "      <td>-0.4888</td>\n",
       "    </tr>\n",
       "  </tbody>\n",
       "</table>\n",
       "<p>5348 rows × 4 columns</p>\n",
       "</div>"
      ],
      "text/plain": [
       "     Ticker  Mktcap       B/P     Ret\n",
       "5238      A   34.68  0.143885 -0.1933\n",
       "3288     AA    7.85  0.555556  0.4200\n",
       "2386    AAC    1.23  0.769231  0.0072\n",
       "3040   AACG   42.63  0.621118 -0.5671\n",
       "3678   AADI  267.36  0.462963 -0.5670\n",
       "...     ...     ...       ...     ...\n",
       "5626    ZWS    3.69  0.050505  0.2335\n",
       "630      ZY  201.54  1.612903 -0.9463\n",
       "2587   ZYME  358.85  0.746269 -0.8290\n",
       "827    ZYNE   49.23  1.408451 -0.7489\n",
       "4701   ZYXI  283.02  0.251256 -0.4888\n",
       "\n",
       "[5348 rows x 4 columns]"
      ]
     },
     "execution_count": 24,
     "metadata": {},
     "output_type": "execute_result"
    }
   ],
   "source": [
    "final"
   ]
  },
  {
   "cell_type": "code",
   "execution_count": 25,
   "metadata": {},
   "outputs": [],
   "source": [
    "out = pd.DataFrame()"
   ]
  },
  {
   "cell_type": "code",
   "execution_count": 26,
   "metadata": {},
   "outputs": [],
   "source": [
    "n = len(final['Ticker'])"
   ]
  },
  {
   "cell_type": "code",
   "execution_count": 19,
   "metadata": {},
   "outputs": [
    {
     "data": {
      "text/plain": [
       "5348"
      ]
     },
     "execution_count": 19,
     "metadata": {},
     "output_type": "execute_result"
    }
   ],
   "source": [
    "n"
   ]
  },
  {
   "cell_type": "code",
   "execution_count": 27,
   "metadata": {},
   "outputs": [],
   "source": [
    "out['Permno']=range(1,n)\n",
    "out['Ticker']= final['Ticker']\n",
    "out['B/P'] = final['B/P']\n",
    "out['Mktcap']= final['Mktcap']\n",
    "out['Ret'] = final['Ret']\n"
   ]
  },
  {
   "cell_type": "code",
   "execution_count": 28,
   "metadata": {},
   "outputs": [],
   "source": [
    "out.dropna(inplace=True)"
   ]
  },
  {
   "cell_type": "code",
   "execution_count": 29,
   "metadata": {},
   "outputs": [],
   "source": [
    "out.to_csv('data.csv')"
   ]
  },
  {
   "cell_type": "code",
   "execution_count": 30,
   "metadata": {},
   "outputs": [
    {
     "data": {
      "text/html": [
       "<div>\n",
       "<style scoped>\n",
       "    .dataframe tbody tr th:only-of-type {\n",
       "        vertical-align: middle;\n",
       "    }\n",
       "\n",
       "    .dataframe tbody tr th {\n",
       "        vertical-align: top;\n",
       "    }\n",
       "\n",
       "    .dataframe thead th {\n",
       "        text-align: right;\n",
       "    }\n",
       "</style>\n",
       "<table border=\"1\" class=\"dataframe\">\n",
       "  <thead>\n",
       "    <tr style=\"text-align: right;\">\n",
       "      <th></th>\n",
       "      <th>Permno</th>\n",
       "      <th>Ticker</th>\n",
       "      <th>B/P</th>\n",
       "      <th>Mktcap</th>\n",
       "      <th>Ret</th>\n",
       "    </tr>\n",
       "  </thead>\n",
       "  <tbody>\n",
       "    <tr>\n",
       "      <th>0</th>\n",
       "      <td>1</td>\n",
       "      <td>BRK-B</td>\n",
       "      <td>inf</td>\n",
       "      <td>689.03</td>\n",
       "      <td>0.0399</td>\n",
       "    </tr>\n",
       "    <tr>\n",
       "      <th>1</th>\n",
       "      <td>2</td>\n",
       "      <td>SOS</td>\n",
       "      <td>inf</td>\n",
       "      <td>36.18</td>\n",
       "      <td>-0.9508</td>\n",
       "    </tr>\n",
       "    <tr>\n",
       "      <th>2</th>\n",
       "      <td>3</td>\n",
       "      <td>CEPU</td>\n",
       "      <td>inf</td>\n",
       "      <td>468.78</td>\n",
       "      <td>0.3277</td>\n",
       "    </tr>\n",
       "    <tr>\n",
       "      <th>4</th>\n",
       "      <td>5</td>\n",
       "      <td>PSHG</td>\n",
       "      <td>100.000000</td>\n",
       "      <td>0.68</td>\n",
       "      <td>-0.9482</td>\n",
       "    </tr>\n",
       "    <tr>\n",
       "      <th>5</th>\n",
       "      <td>6</td>\n",
       "      <td>DUO</td>\n",
       "      <td>100.000000</td>\n",
       "      <td>10.85</td>\n",
       "      <td>-0.9454</td>\n",
       "    </tr>\n",
       "    <tr>\n",
       "      <th>...</th>\n",
       "      <td>...</td>\n",
       "      <td>...</td>\n",
       "      <td>...</td>\n",
       "      <td>...</td>\n",
       "      <td>...</td>\n",
       "    </tr>\n",
       "    <tr>\n",
       "      <th>5340</th>\n",
       "      <td>5341</td>\n",
       "      <td>ABMD</td>\n",
       "      <td>0.122549</td>\n",
       "      <td>11.86</td>\n",
       "      <td>-0.1439</td>\n",
       "    </tr>\n",
       "    <tr>\n",
       "      <th>5342</th>\n",
       "      <td>5343</td>\n",
       "      <td>TRUP</td>\n",
       "      <td>0.122100</td>\n",
       "      <td>2.65</td>\n",
       "      <td>-0.3906</td>\n",
       "    </tr>\n",
       "    <tr>\n",
       "      <th>5344</th>\n",
       "      <td>5345</td>\n",
       "      <td>SMAR</td>\n",
       "      <td>0.122100</td>\n",
       "      <td>3.89</td>\n",
       "      <td>-0.5696</td>\n",
       "    </tr>\n",
       "    <tr>\n",
       "      <th>5345</th>\n",
       "      <td>5346</td>\n",
       "      <td>MDGL</td>\n",
       "      <td>0.122100</td>\n",
       "      <td>1.18</td>\n",
       "      <td>-0.2404</td>\n",
       "    </tr>\n",
       "    <tr>\n",
       "      <th>5346</th>\n",
       "      <td>5347</td>\n",
       "      <td>SHC</td>\n",
       "      <td>0.121951</td>\n",
       "      <td>5.16</td>\n",
       "      <td>-0.1564</td>\n",
       "    </tr>\n",
       "  </tbody>\n",
       "</table>\n",
       "<p>4975 rows × 5 columns</p>\n",
       "</div>"
      ],
      "text/plain": [
       "      Permno Ticker         B/P  Mktcap     Ret\n",
       "0          1  BRK-B         inf  689.03  0.0399\n",
       "1          2    SOS         inf   36.18 -0.9508\n",
       "2          3   CEPU         inf  468.78  0.3277\n",
       "4          5   PSHG  100.000000    0.68 -0.9482\n",
       "5          6    DUO  100.000000   10.85 -0.9454\n",
       "...      ...    ...         ...     ...     ...\n",
       "5340    5341   ABMD    0.122549   11.86 -0.1439\n",
       "5342    5343   TRUP    0.122100    2.65 -0.3906\n",
       "5344    5345   SMAR    0.122100    3.89 -0.5696\n",
       "5345    5346   MDGL    0.122100    1.18 -0.2404\n",
       "5346    5347    SHC    0.121951    5.16 -0.1564\n",
       "\n",
       "[4975 rows x 5 columns]"
      ]
     },
     "execution_count": 30,
     "metadata": {},
     "output_type": "execute_result"
    }
   ],
   "source": [
    "out"
   ]
  },
  {
   "cell_type": "code",
   "execution_count": null,
   "metadata": {},
   "outputs": [],
   "source": []
  }
 ],
 "metadata": {
  "kernelspec": {
   "display_name": "Python 3.9.12 ('base')",
   "language": "python",
   "name": "python3"
  },
  "language_info": {
   "codemirror_mode": {
    "name": "ipython",
    "version": 3
   },
   "file_extension": ".py",
   "mimetype": "text/x-python",
   "name": "python",
   "nbconvert_exporter": "python",
   "pygments_lexer": "ipython3",
   "version": "3.9.12"
  },
  "orig_nbformat": 4,
  "vscode": {
   "interpreter": {
    "hash": "ff928c1b2ecf26192ab9b1e21b422adbb241c4153cc04f49f86a3663a7c72dc1"
   }
  }
 },
 "nbformat": 4,
 "nbformat_minor": 2
}
